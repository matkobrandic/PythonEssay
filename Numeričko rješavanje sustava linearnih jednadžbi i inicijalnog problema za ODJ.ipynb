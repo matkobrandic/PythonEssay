{
 "cells": [
  {
   "cell_type": "markdown",
   "metadata": {},
   "source": [
    "# Numeričko rješavanje sustava linearnih jednadžbi i inicijalnog problema za ODJ"
   ]
  },
  {
   "cell_type": "markdown",
   "metadata": {},
   "source": [
    "## Sadržaj\n",
    "1. [Numeričko rješavanje sustava linearnih jednadžbi](#Numericko1)\n",
    "\n",
    " 1.1. [Uvod i motivacija](#uvod1)  \n",
    " \n",
    " 1.2. [Pozadina metodâ](#pozadina)  \n",
    " \n",
    " 1.3. [Metode](#metode) - <b>ispraviti matricne zapise da odgovaraju ZR</b>  \n",
    "   1.3.1. [Jacobijeva metoda](#Jacobi)  \n",
    "   1.3.2. [Gauss–Seidelova metoda](#Gauss)  \n",
    "   1.3.3. [SOR metoda](#SOR)\n",
    "    \n",
    " 1.4. [Testiranje i usporedba metoda na primjerima - Stieltjes matrica](#Testiranje1)    \n",
    "\n",
    " 1.5. [Zaključak](#Zakljucak1)\n",
    "    \n",
    "    \n",
    "2. [Numeričko rješavanje inicijalnog problema za ODJ](#Numericko2)\n",
    "    \n",
    " 2.1. [Uvod](#uvod2)\n",
    "    \n",
    " 2.2. [Jednokoračne metode](#jednokoracne)  \n",
    "   2.2.1. [Eulerova metoda](#Euler)  \n",
    "   2.2.2. [Trapezna metoda](#trapez)     \n",
    "   2.2.3. [Runge-Kuttina metoda](#runge)  \n",
    "   \n",
    " 2.3. [Višekoračne metode](#visekoracne)     \n",
    "   2.3.1. [Adams–Bashforthova metoda](#Adams)\n",
    "    \n",
    " 2.4. [Testiranje i usporedba na primjerima](#Testiranje2)\n",
    "    \n",
    " 2.5. [Zaključak](#Zakljucak2)\n",
    "    \n",
    "\n",
    "3. [Literatura](#Literatura)"
   ]
  },
  {
   "cell_type": "markdown",
   "metadata": {},
   "source": [
    "## 1. Numeričko rješavanje sustava linearnih jednadžbi <a name=\"Numericko1\"></a>"
   ]
  },
  {
   "cell_type": "markdown",
   "metadata": {},
   "source": [
    "### 1.1. Uvod i motivacija <a name=\"uvod1\"></a>"
   ]
  },
  {
   "cell_type": "markdown",
   "metadata": {},
   "source": [
    "Jedan od osnovnih problema numeričke matematike je rješavanje linearnih sustava jednadžbi. U ovom eseju istraživat ćemo metode za rješavanje kvadratnih $n\\times n$ sustava, odnosno sustava od $n$ jednadžbi s $n$ nepoznanica,"
   ]
  },
  {
   "cell_type": "markdown",
   "metadata": {},
   "source": [
    "$$\n",
    "\\begin{equation}\n",
    "a_{11}x_{1} + a_{12}x_{2} + ... + a_{1j}x_{j} + ... + a_{1n}x_{n} = b_{1}\\\\\n",
    "a_{21}x_{1} + a_{22}x_{2} + ... + a_{2j}x_{j} + ... + a_{2n}x_{n} = b_{2}\\\\\n",
    "\\vdots\\\\\n",
    "a_{i1}x_{1} + a_{i2}x_{2} + ... + a_{ij}x_{j} + ... + a_{in}x_{n} = b_{i}\\\\\n",
    "\\vdots\\\\\n",
    "a_{n1}x_{1} + a_{n2}x_{2} + ... + a_{nj}x_{j} + ... + a_{nn}x_{n} = b_{n}\\\\\n",
    "\\end{equation}\n",
    "$$"
   ]
  },
  {
   "cell_type": "markdown",
   "metadata": {},
   "source": [
    "Matricu $A=(a_{ij})_{i,j=1}^{n}$ nazivamo <b>matrica sustava</b>, a njeni elementi su <b>koeficijenti sustava</b>. Vektor $b=(b_{i})_{i=1}^{n}$ naziva se <b>vektor desne strane</b>. Trebamom odrediti <b>vektor nepoznanica</b> $x$, $x=(x_{i})_{i=1}^{n}$ tako da vrijedi $Ax=b$.\n",
    "\n",
    "Iz linearne algebre znamo da je rješavanje sustava $Ax=b$ za teorijsku matematiku gotovo trivijalan problem, posebno u slučaju kada je matrica sustava kvadratna i regularna. Rješenje $x$ dano je formulom $x=A^{-1}b$, gdje je $A^{-1}$ inverzna matrica od $A$ ($AA^{-1}=A^{-1}A=I$). Pri tome postoje eksplicitne formule i za elemente matrice $A^{-1}$ i za samo rješenje $x$. Osim toga, Gaussova metoda eliminacija dolazi do rješenja $x$ u $O(n^{3})$ elementarnih operacija (gdje su elementarne operacije: zbrajanje, oduzimanje, množenje i dijeljenje).\n",
    "\n",
    "Dakle, znamo da rješenje $x=A^{-1}b$ postoji, jedinstveno je i postoji jednostavan algoritam koji to rješenje eksplicitno računa koristeći konačno mnogo jednostavnih aritmetičkih operacija.\n",
    "Na žalost, konačna aritmetika računala niti te jednostavne operacije ne može izvršavati egzaktno pa Gaussovim eliminacijama (koje su jednostavno konačan niz formula koje vode rješenju) rješenje linearnog sustava $Ax=b$ općenito ne možemo izračunati apsolutno točno.\n",
    "\n",
    "Iz tog razloga, uvodimo iterativne metode. Iterativne metode ne daju egzaktno rješenje, nego aproksimaciju tog rješenja. Pokazat će se da pomoću iterativnih metoda ne znamo egzaktno rješenje, ali znamo koliko smo \"blizu\" egzaktnom rješenju.\n",
    "\n",
    "Metode koje ćemo navesti i objasniti su Jacobijeva, Gauss–Seidelova i SOR (successive over–relaxation) metoda."
   ]
  },
  {
   "cell_type": "markdown",
   "metadata": {},
   "source": [
    "### 1.2. Pozadina metodâ <a name=\"pozadina\"></a>"
   ]
  },
  {
   "cell_type": "markdown",
   "metadata": {},
   "source": [
    "Pretpostavimo da rješavamo sustav $Ax=b$ za koji vrijedi $\\det A\\neq0$. Budući da umjesto egzaktnog rješenja $x$, moramo koristiti neku aproksimaciju $\\tilde{x}$, moramo imati način procjene kvalitete aproksimacije. Jedan način je izračunati normu $\\delta x$, gdje je $\\delta x = \\tilde{x} - x$, no budući da je $x$ nepoznanica, to nije moguće. Drugi način je da izračunamo rezidual\n",
    "\n",
    "$$ r = b - A\\tilde{x} \\label{eq:1}\\tag{1} $$\n",
    "\n",
    "Reći ćemo da je $\\tilde{x}$ dobra aproksimacija od $x$ ako je, u nekoj normi $\\|\\cdot\\|$, vrijednost $\\epsilon:=\\frac{||r||}{||b||}$ dovoljno mala.\n",
    "\n",
    "Takav kriterij možemo opravdati činjenicom da je iz $\\eqref{eq:1}$\n",
    "$$ A\\tilde{x} = \\tilde{b}\\equiv b-r, \\frac{||\\tilde{b}-b||}{||b||}=\\frac{||r||}{||b||}=\\epsilon.$$"
   ]
  },
  {
   "cell_type": "markdown",
   "metadata": {},
   "source": [
    "Kažemo da $\\tilde{x}$ egzaktno rješava sustav koji je blizak zadanom, s kontroliranom razlikom u desnoj strani sustava, vektoru $b$.\n",
    "\n",
    "Prethodna diskusija motivira nas da potražimo i drugačije pristupe za rješavanje linearnog sustava $Ax=b$. Primijetimo da ne moramo nužno težiti pronalaženju egzaktnog rješenja. Dakle, želimo <i>dovoljno dobru</i> aproksimaciju $\\tilde{x}\\approx A^{-1}b$. Zbog toga ima smisla pokušati konstruirati niz $x^{(0)},x^{(1)},x^{(2)},...,x^{(k)},...$ vektora sa sljedećim svojstvima:\n",
    "- Za svaki $k\\in\\mathbb{N}$ formula za računanje $x^{(k)}$ je jednostavna i matrica $A$ se koristi samo kao funkcijski potprogram koji računa $v\\mapsto f(A)v$, gdje je $v$ vektor, a $f(A)$ označava $A,A^{*},A^{T}$ ili neki dio od $A$ (npr. $diag(A)$, gornji ili donji trokut od $A$ i sl.)\n",
    "- $x^{(k)}$ teži prema $x=A^{-1}b$ i za neki $k$ (obično $k\\ll n$), $x^{(k)}$ je prihvatljiva aproksimacija za $x$.\n",
    "\n",
    "Ova svojstva su namjerno dana u nepreciznom obliku. Detalji koji ovise o konkretnom problemu i ko konkretnom načinu konstrukcije niza $(x^{(k)}$  bit će dani kada budemo opisivali metodu (metode)."
   ]
  },
  {
   "cell_type": "markdown",
   "metadata": {},
   "source": [
    "Napišimo matricu $A$ kao $A=M-N$, gdje je $M$ regularna matrica i $M^{-1}A\\approx I$. Imamo:\n",
    "\n",
    "$$Mx=Nx+b,\\;\\text{ or }\\; x=M^{-1}Nx+M^{-1}b \\label{eq:2}\\tag{2}$$\n",
    "\n",
    "Označimo $F:=M^{-1}N$ i $c:=M^{-1}b$. To je problem fiksne točke $x=Fx+c$, sa $F=M^{-1}N=M^{-1}(M-A)=I-M^{-1}A$ pa je prirodno pokušati jednostavne iteracije:\n",
    "\n",
    "$$ x^{(k+1)}=Fx^{(k)}+c. \\label{eq:3}\\tag{3} $$\n",
    "\n",
    "Ubacivanjem $F=I-M^{-1}A$ i $c=M^{-1}b$ vidimo da se iteracije iz $\\eqref{eq:3}$ mogu zapisati i kao\n",
    "\n",
    "$$ x^{(k+1)}=x^{(k)}+M^{-1}r_{k},\\;\\text{gdje je}\\;\\; r_{k}=Ax^{(k)} \\label{eq:4}\\tag{4}$$\n",
    "\n",
    "Intuitivno, ako smo $M$ odabrali tako da znamo koristiti $M^{-1}$ i tako da je $M^{-1}\\approx A^{-1}$, onda je \n",
    "\n",
    "$$ x^{(k+1)}=x^{(k)} + M^{-1}r_{k}\\approx x^{(k)} + A^{-1}r_{k}= x^{(k)} + x - x^{(k)}=x.$$"
   ]
  },
  {
   "cell_type": "markdown",
   "metadata": {},
   "source": [
    "Kažemo da je $M$ prekondicioner za $A$ u smislu da $M^{-1}$ aproksimira $A^{-1}$. Ako imamo dobar izbor matrice $M$, onda polazni sustav $Ax=b$ možemo zamijeniti ekvivalentnim $(M^{-1}A)x=M^{-1}b$ čija matrica koeficijenata $M^{-1}A$ ima bolja svojstva od $A$.\n",
    "\n",
    "Najveći dio problema je u tome kako odabrati rastav matrice $A$ kao $A=M-N$ koji će za neke klase problema osigurati konvergenciju. Za Jacobijevu, Gauss–Seidelovu i SOR metodu ti su rastavi izvedeni iz sljedeće reprezentacije matrice $A$:\n",
    "\n",
    "$$ A = D(I-L-U) \\label{eq:5}\\tag{5}$$\n",
    "\n",
    "$D=diag(A)$, $L$ je strogo donje trokutasta, a $U$ je strogo gornje trokutasta. Također, koristit ćemo i sljedeći rastav:\n",
    "$$ A = D - \\hat{L} - \\hat{U},\\; \\hat{L}=DL,\\; \\hat{U}=DU$$"
   ]
  },
  {
   "cell_type": "markdown",
   "metadata": {},
   "source": [
    "### 1.3. Metode <a name=\"metode\"></a>"
   ]
  },
  {
   "cell_type": "markdown",
   "metadata": {},
   "source": [
    "####  1.3.1. Jacobijeva metoda <a name=\"Jacobi\"></a>"
   ]
  },
  {
   "cell_type": "markdown",
   "metadata": {},
   "source": [
    "Jacobijeva metoda definirana je za matricu $A\\in\\mathbb{M}_{n}$ za koju je $a_{ii}\\neq0, \\forall i=1,...,n$. Za matricu $M$ ćemo uzeti dijagonalu od $A$, $M=\\diag{A}$, pa je $N$ izvandijagonalni dio od $-A$. Matricu $F=D^{-1}(D-A)$ označimo sa $J$, gdje je u terminima $\\eqref{eq:5}$:\n",
    "\n",
    "$$ J=L+U \\label{eq:6}\\tag{6}$$\n",
    "\n"
   ]
  },
  {
   "cell_type": "markdown",
   "metadata": {},
   "source": [
    "Jacobijeve iteracije $x^{(k+1)}=Jx^{(k)}+D^{-1}b$ po elementima glase:\n",
    "\n",
    "$$ x_i^{(k+1)}=\\frac{1}{a_{ii}}(b_{i}-\\sum_{j=1\\\\j\\neq i}^{n}a_{ij}x_{j}^{(k)})\\label{eq:7}\\tag{7}$$"
   ]
  },
  {
   "cell_type": "code",
   "execution_count": 1,
   "metadata": {},
   "outputs": [],
   "source": [
    "import numpy as np\n",
    "%matplotlib inline \n",
    "import matplotlib.pyplot as plt\n",
    "from PIL import Image\n",
    "import scipy as sp"
   ]
  },
  {
   "cell_type": "markdown",
   "metadata": {},
   "source": [
    "Jacobi algoritam:"
   ]
  },
  {
   "cell_type": "code",
   "execution_count": 2,
   "metadata": {},
   "outputs": [],
   "source": [
    "def jacobi(x, A, b, tolerance):\n",
    "    # initial guess x to the solution, diagonally dominant matrix A,\n",
    "    # right-hand side vector b, convergence criterion tolerance\n",
    "    \n",
    "    # A je kvadratna pa nije vazno uzimamo li broj redaka ili stupaca\n",
    "    n = len(x)\n",
    "    \n",
    "    # dekompozicija matrice A\n",
    "    D = np.linalg.inv(np.diag(np.diag(A)))\n",
    "    L = np.tril(A, k=-1)\n",
    "    U = np.triu(A, k=1)\n",
    "    #x = Fx+c\n",
    "    F = (-D) @ (L+U)\n",
    "    c = D @ b\n",
    "    \n",
    "    # vektor reziduala svake iteracije\n",
    "    residual = np.array([np.linalg.norm(b - A@x)])\n",
    "    \n",
    "    # matrica koja u retku i ima aproksimaciju dobivenu u i-toj iteraciji \n",
    "    approximations = np.array(x)\n",
    "    k = 0\n",
    "    while residual[k] >= tolerance:\n",
    "        k = k + 1\n",
    "        x = F@x + c\n",
    "        residual = np.append(residual, np.linalg.norm(b - A@x))\n",
    "        approximations = np.append(approximations, x).reshape(k+1, n)\n",
    "    return x, residual, approximations"
   ]
  },
  {
   "cell_type": "markdown",
   "metadata": {},
   "source": [
    "#### 1.3.2. Gauss–Seidel metoda <a name=\"Gauss\"></a>"
   ]
  },
  {
   "cell_type": "markdown",
   "metadata": {},
   "source": [
    "Gledajući formulu $\\eqref{eq:7}$ Jacobijeve metode, možemo primijetiti da su u trenutku računanja $x_{i}^{(k+1)}$, vrijednosti $x_{1}^{(k+1)},...,x_{i-1}^{(k+1)}$ već poznate. Budući da očekujemo da naše iteracije konvergiraju, razumno je očekivati da su $x_{1}^{(k+1)},...,x_{i-1}^{(k+1)}$ bolje vrijednosti od $x_{1}^{(k)},...,x_{i-1}^{(k)}$. Iz tog razloga uvodimo sljedeću formulu za računanje $x^{(k+1)}$:\n",
    "\n",
    "$$ x_i^{(k+1)}=\\frac{1}{a_{ii}}(b_{i}-\\sum_{j=1}^{i-1}a_{ij}x_{j}^{(k+1)}-\\sum_{j=i+1}^{n}a_{ij}x_{j}^{(k)}),\\; i=1,...,n\\label{eq:8}\\tag{8}$$\n",
    "\n",
    "U terminima $\\eqref{eq:5}$, metoda glasi:\n",
    "\n",
    "$$ x^{(k+1)}=Gx^{(k)}+(I-L)^{-1}D^{-1}b,\\; G = (I-L)^{-1}U\\label{eq:9}\\tag{9}$$"
   ]
  },
  {
   "cell_type": "markdown",
   "metadata": {},
   "source": [
    "Gauss–Seidel algoritam:"
   ]
  },
  {
   "cell_type": "code",
   "execution_count": 3,
   "metadata": {},
   "outputs": [],
   "source": [
    "def gaussSeidel(x, A, b, tolerance):\n",
    "    # initial guess x to the solution, diagonally dominant matrix A,\n",
    "    # right-hand side vector b, convergence criterion tolerance\n",
    "    \n",
    "    # A je kvadratna pa nije vazno uzimamo li broj redaka ili stupaca\n",
    "    n = len(A)\n",
    "    \n",
    "    # dekompozicija matrice A\n",
    "    D = np.diag(np.diag(A))\n",
    "    L = np.tril(A, k=-1)\n",
    "    U = np.triu(A, k=1)\n",
    "    D = np.linalg.inv(D + L)\n",
    "    #x = Fx + c\n",
    "    F = (-D) @ U\n",
    "    c = D @ b\n",
    "    \n",
    "    # vektor reziduala svake iteracije\n",
    "    residual = np.array([np.linalg.norm(b - A@x)])\n",
    "    \n",
    "    # matrica koja u retku i ima aproksimaciju dobivenu u i-toj iteraciji \n",
    "    approximations = np.array(x)\n",
    "    k = 0\n",
    "    while residual[k] >= tolerance:\n",
    "        k = k + 1\n",
    "        x = F@x + c\n",
    "        residual = np.append(residual, np.linalg.norm(b - A@x))\n",
    "        approximations = np.append(approximations, x).reshape(k+1, n)\n",
    "    return x, residual, approximations"
   ]
  },
  {
   "cell_type": "markdown",
   "metadata": {},
   "source": [
    "#### 1.3.3. SOR metoda <a name=\"SOR\"></a>"
   ]
  },
  {
   "cell_type": "markdown",
   "metadata": {},
   "source": [
    "SOR metoda je varijacija na Gauss–Seidelovu metodu, koja u konačnici dovodi do brže konvergencije. Analognim zaključivanjem za bilo koju sporo konvergirajuću metodu možemo kreirati bržu metodu. Ideja SOR metode je jednostavna: u Gauss–Seidelovu metodu ubacimo jedan slobodan parametar $\\omega\\in\\mathbb{R}$ te pokušamo namjestiti $\\omega$  kako bismo dobili bržu konvergenciju. Pri tome zadržavamo osnovnu ideju Gauss–Seidelove metode – koristimo najsvježije podatke:\n",
    "\n",
    "$$ x_i^{(k+1)}=(1-\\omega)x_{i}^{(k)} + \\frac{\\omega}{a_{ii}}(b_{i}-\\sum_{j=1}^{i-1}a_{ij}x_{j}^{(k+1)}-\\sum_{j=i+1}^{n}a_{ij}x_{j}^{(k)}),\\; i=1,...,n\\label{eq:10}\\tag{10}$$\n",
    "\n",
    "U terminima $\\eqref{eq:5}$, metoda glasi:\n",
    "\n",
    "$$ x^{(k+1)}=Sx^{(k)}+\\omega(I-\\omega L)^{-1}D^{-1}b,\\; S = (I-\\omega L)^{-1}((1-\\omega)I+\\omega U)\\label{eq:11}\\tag{11}$$"
   ]
  },
  {
   "cell_type": "code",
   "execution_count": 4,
   "metadata": {},
   "outputs": [],
   "source": [
    "def sor(x, A, b, omega, tolerance):\n",
    "    # initial guess x to the solution, diagonally dominant matrix A,\n",
    "    # right-hand side vector b, convergence criterion tolerance\n",
    "    \n",
    "    # A je kvadratna pa nije vazno uzimamo li broj redaka ili stupaca\n",
    "    n = len(A)\n",
    "    \n",
    "    # dekompozicija matrice A\n",
    "    D = np.diag(np.diag(A))\n",
    "    L = np.tril(A, k=-1)\n",
    "    U = np.triu(A, k=1)\n",
    "    L = np.linalg.inv(D + omega*L)\n",
    "    U = (1-omega)*D - omega*U\n",
    "    #x = Fx + c\n",
    "    F = L @ U\n",
    "    c = (omega*L) @ b\n",
    "    \n",
    "    # vektor reziduala svake iteracije\n",
    "    residual = np.array([np.linalg.norm(b - A@x)])\n",
    "    \n",
    "    # matrica koja u retku i ima aproksimaciju dobivenu u i-toj iteraciji \n",
    "    approximations = np.array(x)\n",
    "    k = 0\n",
    "    while residual[k] >= tolerance:\n",
    "        k = k + 1\n",
    "        x = F@x + c\n",
    "        residual = np.append(residual, np.linalg.norm(b - A@x))\n",
    "        approximations = np.append(approximations, x).reshape(k+1, n)\n",
    "    return x, residual, approximations"
   ]
  },
  {
   "cell_type": "markdown",
   "metadata": {},
   "source": [
    "Za odabir optimalnog omege, prije testiranja ispitat ćemo moguće kandidate i izabrati optimalnu vrijednost. Sad se možemo pitati: zar ćemo testirati za sve realne brojeve? No, odabir će nam olakšati Kahanov teorem:\n",
    "\n",
    "$\\text{Neka je S matrica SOR metode s parametrom }\\omega. \\text{ Tada je spr(S) }\\geq|\\omega-1|.\\text{ Dakle, za konvergenciju SOR metode nužno je da je } \\omega\\in(0,2)$."
   ]
  },
  {
   "cell_type": "markdown",
   "metadata": {},
   "source": [
    "### 1.4. Testiranje i usporedba metoda na primjerima – Stieltjes matrica<a name=\"Testiranje1\"></a>"
   ]
  },
  {
   "cell_type": "markdown",
   "metadata": {},
   "source": [
    "Testiranje Jacobijeve, Gauss–Seidelove i SOR metode provest ćemo na nekoliko različitih matrica. Jedna od njih je jedan primjer Stieltjesove matrice. Stieltjesova matrica je realna simetrična pozitivno definitna matrica kojoj su elementi izvan dijagonale nepozitivni ($\\leq 0$). Testiranje ćemo provesti s vektorom desne strane takvim da je egzaktno rješenje vektor jedinica. Također, dovoljna točnost će nam biti $1\\text{e-8}$. Početna aproksimacija neka bude nulvektor."
   ]
  },
  {
   "cell_type": "code",
   "execution_count": 5,
   "metadata": {},
   "outputs": [
    {
     "data": {
      "image/png": "[encoded data removed]",
      "text/plain": [
       "<Figure size 432x288 with 1 Axes>"
      ]
     },
     "metadata": {
      "needs_background": "light"
     },
     "output_type": "display_data"
    }
   ],
   "source": [
    "# točnost\n",
    "tolerance = 1e-8\n",
    "\n",
    "# učitavanje matrice iz .txt datoteke\n",
    "stieltjes = np.genfromtxt('stieltjes.txt').reshape(100,100)\n",
    "\n",
    "# vidimo da je matrica rijetko popunjena\n",
    "plt.imshow(stieltjes, interpolation='nearest',cmap='gray_r')\n",
    "plt.show()"
   ]
  },
  {
   "cell_type": "code",
   "execution_count": 6,
   "metadata": {},
   "outputs": [],
   "source": [
    "# korisni vektori\n",
    "one = np.ones(len(stieltjes))\n",
    "rhs = stieltjes @ one\n",
    "unknown = np.zeros(len(stieltjes))\n",
    "xAxis = np.arange(1,101)"
   ]
  },
  {
   "cell_type": "markdown",
   "metadata": {},
   "source": [
    "Najprije pronađimo optimalan $\\omega\\in(0,2)$ za SOR metodu. Za naše potrebe, dovoljno će biti uzeti realan broj $\\omega$ s najviše dvije decimale."
   ]
  },
  {
   "cell_type": "code",
   "execution_count": 7,
   "metadata": {},
   "outputs": [
    {
     "name": "stdout",
     "output_type": "stream",
     "text": [
      "Računam SOR metodom za omega =  0.01\n",
      "Broj koraka potreban za dostizanje tražene točnosti:  11477.0\n",
      "Računam SOR metodom za omega =  0.02\n",
      "Broj koraka potreban za dostizanje tražene točnosti:  5711.0\n",
      "Računam SOR metodom za omega =  0.03\n",
      "Broj koraka potreban za dostizanje tražene točnosti:  3788.0\n",
      "Računam SOR metodom za omega =  0.04\n",
      "Broj koraka potreban za dostizanje tražene točnosti:  2827.0\n",
      "Računam SOR metodom za omega =  0.05\n",
      "Broj koraka potreban za dostizanje tražene točnosti:  2250.0\n",
      "Računam SOR metodom za omega =  0.060000000000000005\n",
      "Broj koraka potreban za dostizanje tražene točnosti:  1866.0\n",
      "Računam SOR metodom za omega =  0.06999999999999999\n",
      "Broj koraka potreban za dostizanje tražene točnosti:  1591.0\n",
      "Računam SOR metodom za omega =  0.08\n",
      "Broj koraka potreban za dostizanje tražene točnosti:  1385.0\n",
      "Računam SOR metodom za omega =  0.09\n",
      "Broj koraka potreban za dostizanje tražene točnosti:  1225.0\n",
      "Računam SOR metodom za omega =  0.09999999999999999\n",
      "Broj koraka potreban za dostizanje tražene točnosti:  1097.0\n",
      "Računam SOR metodom za omega =  0.11\n",
      "Broj koraka potreban za dostizanje tražene točnosti:  992.0\n",
      "Računam SOR metodom za omega =  0.12\n",
      "Broj koraka potreban za dostizanje tražene točnosti:  905.0\n",
      "Računam SOR metodom za omega =  0.13\n",
      "Broj koraka potreban za dostizanje tražene točnosti:  831.0\n",
      "Računam SOR metodom za omega =  0.14\n",
      "Broj koraka potreban za dostizanje tražene točnosti:  767.0\n",
      "Računam SOR metodom za omega =  0.15000000000000002\n",
      "Broj koraka potreban za dostizanje tražene točnosti:  712.0\n",
      "Računam SOR metodom za omega =  0.16\n",
      "Broj koraka potreban za dostizanje tražene točnosti:  664.0\n",
      "Računam SOR metodom za omega =  0.17\n",
      "Broj koraka potreban za dostizanje tražene točnosti:  622.0\n",
      "Računam SOR metodom za omega =  0.18000000000000002\n",
      "Broj koraka potreban za dostizanje tražene točnosti:  584.0\n",
      "Računam SOR metodom za omega =  0.19\n",
      "Broj koraka potreban za dostizanje tražene točnosti:  550.0\n",
      "Računam SOR metodom za omega =  0.2\n",
      "Broj koraka potreban za dostizanje tražene točnosti:  520.0\n",
      "Računam SOR metodom za omega =  0.21000000000000002\n",
      "Broj koraka potreban za dostizanje tražene točnosti:  493.0\n",
      "Računam SOR metodom za omega =  0.22\n",
      "Broj koraka potreban za dostizanje tražene točnosti:  468.0\n",
      "Računam SOR metodom za omega =  0.23\n",
      "Broj koraka potreban za dostizanje tražene točnosti:  445.0\n",
      "Računam SOR metodom za omega =  0.24000000000000002\n",
      "Broj koraka potreban za dostizanje tražene točnosti:  424.0\n",
      "Računam SOR metodom za omega =  0.25\n",
      "Broj koraka potreban za dostizanje tražene točnosti:  405.0\n",
      "Računam SOR metodom za omega =  0.26\n",
      "Broj koraka potreban za dostizanje tražene točnosti:  387.0\n",
      "Računam SOR metodom za omega =  0.27\n",
      "Broj koraka potreban za dostizanje tražene točnosti:  370.0\n",
      "Računam SOR metodom za omega =  0.28\n",
      "Broj koraka potreban za dostizanje tražene točnosti:  355.0\n",
      "Računam SOR metodom za omega =  0.29000000000000004\n",
      "Broj koraka potreban za dostizanje tražene točnosti:  341.0\n",
      "Računam SOR metodom za omega =  0.3\n",
      "Broj koraka potreban za dostizanje tražene točnosti:  328.0\n",
      "Računam SOR metodom za omega =  0.31\n",
      "Broj koraka potreban za dostizanje tražene točnosti:  315.0\n",
      "Računam SOR metodom za omega =  0.32\n",
      "Broj koraka potreban za dostizanje tražene točnosti:  304.0\n",
      "Računam SOR metodom za omega =  0.33\n",
      "Broj koraka potreban za dostizanje tražene točnosti:  293.0\n",
      "Računam SOR metodom za omega =  0.34\n",
      "Broj koraka potreban za dostizanje tražene točnosti:  282.0\n",
      "Računam SOR metodom za omega =  0.35000000000000003\n",
      "Broj koraka potreban za dostizanje tražene točnosti:  273.0\n",
      "Računam SOR metodom za omega =  0.36000000000000004\n",
      "Broj koraka potreban za dostizanje tražene točnosti:  263.0\n",
      "Računam SOR metodom za omega =  0.37\n",
      "Broj koraka potreban za dostizanje tražene točnosti:  255.0\n",
      "Računam SOR metodom za omega =  0.38\n",
      "Broj koraka potreban za dostizanje tražene točnosti:  246.0\n",
      "Računam SOR metodom za omega =  0.39\n",
      "Broj koraka potreban za dostizanje tražene točnosti:  239.0\n",
      "Računam SOR metodom za omega =  0.4\n",
      "Broj koraka potreban za dostizanje tražene točnosti:  231.0\n",
      "Računam SOR metodom za omega =  0.41000000000000003\n",
      "Broj koraka potreban za dostizanje tražene točnosti:  224.0\n",
      "Računam SOR metodom za omega =  0.42000000000000004\n",
      "Broj koraka potreban za dostizanje tražene točnosti:  217.0\n",
      "Računam SOR metodom za omega =  0.43\n",
      "Broj koraka potreban za dostizanje tražene točnosti:  211.0\n",
      "Računam SOR metodom za omega =  0.44\n",
      "Broj koraka potreban za dostizanje tražene točnosti:  205.0\n",
      "Računam SOR metodom za omega =  0.45\n",
      "Broj koraka potreban za dostizanje tražene točnosti:  199.0\n",
      "Računam SOR metodom za omega =  0.46\n",
      "Broj koraka potreban za dostizanje tražene točnosti:  193.0\n",
      "Računam SOR metodom za omega =  0.47000000000000003\n",
      "Broj koraka potreban za dostizanje tražene točnosti:  188.0\n",
      "Računam SOR metodom za omega =  0.48000000000000004\n",
      "Broj koraka potreban za dostizanje tražene točnosti:  183.0\n",
      "Računam SOR metodom za omega =  0.49\n",
      "Broj koraka potreban za dostizanje tražene točnosti:  178.0\n",
      "Računam SOR metodom za omega =  0.5\n",
      "Broj koraka potreban za dostizanje tražene točnosti:  173.0\n",
      "Računam SOR metodom za omega =  0.51\n",
      "Broj koraka potreban za dostizanje tražene točnosti:  169.0\n",
      "Računam SOR metodom za omega =  0.52\n",
      "Broj koraka potreban za dostizanje tražene točnosti:  164.0\n",
      "Računam SOR metodom za omega =  0.53\n",
      "Broj koraka potreban za dostizanje tražene točnosti:  160.0\n",
      "Računam SOR metodom za omega =  0.54\n",
      "Broj koraka potreban za dostizanje tražene točnosti:  156.0\n",
      "Računam SOR metodom za omega =  0.55\n",
      "Broj koraka potreban za dostizanje tražene točnosti:  152.0\n",
      "Računam SOR metodom za omega =  0.56\n",
      "Broj koraka potreban za dostizanje tražene točnosti:  148.0\n",
      "Računam SOR metodom za omega =  0.5700000000000001\n",
      "Broj koraka potreban za dostizanje tražene točnosti:  145.0\n",
      "Računam SOR metodom za omega =  0.5800000000000001\n",
      "Broj koraka potreban za dostizanje tražene točnosti:  141.0\n",
      "Računam SOR metodom za omega =  0.59\n",
      "Broj koraka potreban za dostizanje tražene točnosti:  138.0\n",
      "Računam SOR metodom za omega =  0.6\n",
      "Broj koraka potreban za dostizanje tražene točnosti:  134.0\n",
      "Računam SOR metodom za omega =  0.61\n",
      "Broj koraka potreban za dostizanje tražene točnosti:  131.0\n",
      "Računam SOR metodom za omega =  0.62\n",
      "Broj koraka potreban za dostizanje tražene točnosti:  128.0\n",
      "Računam SOR metodom za omega =  0.63\n",
      "Broj koraka potreban za dostizanje tražene točnosti:  125.0\n",
      "Računam SOR metodom za omega =  0.64\n",
      "Broj koraka potreban za dostizanje tražene točnosti:  122.0\n",
      "Računam SOR metodom za omega =  0.65\n",
      "Broj koraka potreban za dostizanje tražene točnosti:  119.0\n",
      "Računam SOR metodom za omega =  0.66\n",
      "Broj koraka potreban za dostizanje tražene točnosti:  117.0\n",
      "Računam SOR metodom za omega =  0.67\n",
      "Broj koraka potreban za dostizanje tražene točnosti:  114.0\n",
      "Računam SOR metodom za omega =  0.68\n",
      "Broj koraka potreban za dostizanje tražene točnosti:  112.0\n",
      "Računam SOR metodom za omega =  0.6900000000000001\n",
      "Broj koraka potreban za dostizanje tražene točnosti:  109.0\n",
      "Računam SOR metodom za omega =  0.7000000000000001\n",
      "Broj koraka potreban za dostizanje tražene točnosti:  107.0\n",
      "Računam SOR metodom za omega =  0.7100000000000001\n",
      "Broj koraka potreban za dostizanje tražene točnosti:  104.0\n",
      "Računam SOR metodom za omega =  0.72\n",
      "Broj koraka potreban za dostizanje tražene točnosti:  102.0\n",
      "Računam SOR metodom za omega =  0.73\n",
      "Broj koraka potreban za dostizanje tražene točnosti:  100.0\n",
      "Računam SOR metodom za omega =  0.74\n",
      "Broj koraka potreban za dostizanje tražene točnosti:  98.0\n",
      "Računam SOR metodom za omega =  0.75\n",
      "Broj koraka potreban za dostizanje tražene točnosti:  95.0\n",
      "Računam SOR metodom za omega =  0.76\n",
      "Broj koraka potreban za dostizanje tražene točnosti:  93.0\n",
      "Računam SOR metodom za omega =  0.77\n",
      "Broj koraka potreban za dostizanje tražene točnosti:  91.0\n",
      "Računam SOR metodom za omega =  0.78\n",
      "Broj koraka potreban za dostizanje tražene točnosti:  89.0\n",
      "Računam SOR metodom za omega =  0.79\n",
      "Broj koraka potreban za dostizanje tražene točnosti:  87.0\n",
      "Računam SOR metodom za omega =  0.8\n",
      "Broj koraka potreban za dostizanje tražene točnosti:  86.0\n",
      "Računam SOR metodom za omega =  0.81\n",
      "Broj koraka potreban za dostizanje tražene točnosti:  84.0\n",
      "Računam SOR metodom za omega =  0.8200000000000001\n",
      "Broj koraka potreban za dostizanje tražene točnosti:  82.0\n",
      "Računam SOR metodom za omega =  0.8300000000000001\n",
      "Broj koraka potreban za dostizanje tražene točnosti:  80.0\n",
      "Računam SOR metodom za omega =  0.8400000000000001\n",
      "Broj koraka potreban za dostizanje tražene točnosti:  78.0\n",
      "Računam SOR metodom za omega =  0.85\n",
      "Broj koraka potreban za dostizanje tražene točnosti:  77.0\n",
      "Računam SOR metodom za omega =  0.86\n",
      "Broj koraka potreban za dostizanje tražene točnosti:  75.0\n",
      "Računam SOR metodom za omega =  0.87\n",
      "Broj koraka potreban za dostizanje tražene točnosti:  73.0\n",
      "Računam SOR metodom za omega =  0.88\n",
      "Broj koraka potreban za dostizanje tražene točnosti:  72.0\n",
      "Računam SOR metodom za omega =  0.89\n",
      "Broj koraka potreban za dostizanje tražene točnosti:  70.0\n",
      "Računam SOR metodom za omega =  0.9\n",
      "Broj koraka potreban za dostizanje tražene točnosti:  69.0\n",
      "Računam SOR metodom za omega =  0.91\n",
      "Broj koraka potreban za dostizanje tražene točnosti:  67.0\n",
      "Računam SOR metodom za omega =  0.92\n",
      "Broj koraka potreban za dostizanje tražene točnosti:  66.0\n",
      "Računam SOR metodom za omega =  0.93\n",
      "Broj koraka potreban za dostizanje tražene točnosti:  64.0\n",
      "Računam SOR metodom za omega =  0.9400000000000001\n",
      "Broj koraka potreban za dostizanje tražene točnosti:  63.0\n",
      "Računam SOR metodom za omega =  0.9500000000000001\n",
      "Broj koraka potreban za dostizanje tražene točnosti:  62.0\n",
      "Računam SOR metodom za omega =  0.9600000000000001\n",
      "Broj koraka potreban za dostizanje tražene točnosti:  60.0\n",
      "Računam SOR metodom za omega =  0.97\n",
      "Broj koraka potreban za dostizanje tražene točnosti:  59.0\n",
      "Računam SOR metodom za omega =  0.98\n",
      "Broj koraka potreban za dostizanje tražene točnosti:  58.0\n",
      "Računam SOR metodom za omega =  0.99\n",
      "Broj koraka potreban za dostizanje tražene točnosti:  56.0\n",
      "Računam SOR metodom za omega =  1.0\n",
      "Broj koraka potreban za dostizanje tražene točnosti:  55.0\n",
      "Računam SOR metodom za omega =  1.01\n",
      "Broj koraka potreban za dostizanje tražene točnosti:  54.0\n",
      "Računam SOR metodom za omega =  1.02\n",
      "Broj koraka potreban za dostizanje tražene točnosti:  53.0\n",
      "Računam SOR metodom za omega =  1.03\n",
      "Broj koraka potreban za dostizanje tražene točnosti:  52.0\n",
      "Računam SOR metodom za omega =  1.04\n",
      "Broj koraka potreban za dostizanje tražene točnosti:  50.0\n",
      "Računam SOR metodom za omega =  1.05\n",
      "Broj koraka potreban za dostizanje tražene točnosti:  49.0\n",
      "Računam SOR metodom za omega =  1.06\n"
     ]
    },
    {
     "name": "stdout",
     "output_type": "stream",
     "text": [
      "Broj koraka potreban za dostizanje tražene točnosti:  48.0\n",
      "Računam SOR metodom za omega =  1.07\n",
      "Broj koraka potreban za dostizanje tražene točnosti:  47.0\n",
      "Računam SOR metodom za omega =  1.08\n",
      "Broj koraka potreban za dostizanje tražene točnosti:  46.0\n",
      "Računam SOR metodom za omega =  1.09\n",
      "Broj koraka potreban za dostizanje tražene točnosti:  45.0\n",
      "Računam SOR metodom za omega =  1.1\n",
      "Broj koraka potreban za dostizanje tražene točnosti:  44.0\n",
      "Računam SOR metodom za omega =  1.11\n",
      "Broj koraka potreban za dostizanje tražene točnosti:  42.0\n",
      "Računam SOR metodom za omega =  1.12\n",
      "Broj koraka potreban za dostizanje tražene točnosti:  41.0\n",
      "Računam SOR metodom za omega =  1.1300000000000001\n",
      "Broj koraka potreban za dostizanje tražene točnosti:  40.0\n",
      "Računam SOR metodom za omega =  1.1400000000000001\n",
      "Broj koraka potreban za dostizanje tražene točnosti:  39.0\n",
      "Računam SOR metodom za omega =  1.1500000000000001\n",
      "Broj koraka potreban za dostizanje tražene točnosti:  38.0\n",
      "Računam SOR metodom za omega =  1.1600000000000001\n",
      "Broj koraka potreban za dostizanje tražene točnosti:  37.0\n",
      "Računam SOR metodom za omega =  1.17\n",
      "Broj koraka potreban za dostizanje tražene točnosti:  36.0\n",
      "Računam SOR metodom za omega =  1.18\n",
      "Broj koraka potreban za dostizanje tražene točnosti:  35.0\n",
      "Računam SOR metodom za omega =  1.19\n",
      "Broj koraka potreban za dostizanje tražene točnosti:  34.0\n",
      "Računam SOR metodom za omega =  1.2\n",
      "Broj koraka potreban za dostizanje tražene točnosti:  33.0\n",
      "Računam SOR metodom za omega =  1.21\n",
      "Broj koraka potreban za dostizanje tražene točnosti:  32.0\n",
      "Računam SOR metodom za omega =  1.22\n",
      "Broj koraka potreban za dostizanje tražene točnosti:  31.0\n",
      "Računam SOR metodom za omega =  1.23\n",
      "Broj koraka potreban za dostizanje tražene točnosti:  30.0\n",
      "Računam SOR metodom za omega =  1.24\n",
      "Broj koraka potreban za dostizanje tražene točnosti:  29.0\n",
      "Računam SOR metodom za omega =  1.25\n",
      "Broj koraka potreban za dostizanje tražene točnosti:  27.0\n",
      "Računam SOR metodom za omega =  1.26\n",
      "Broj koraka potreban za dostizanje tražene točnosti:  26.0\n",
      "Računam SOR metodom za omega =  1.27\n",
      "Broj koraka potreban za dostizanje tražene točnosti:  25.0\n",
      "Računam SOR metodom za omega =  1.28\n",
      "Broj koraka potreban za dostizanje tražene točnosti:  24.0\n",
      "Računam SOR metodom za omega =  1.29\n",
      "Broj koraka potreban za dostizanje tražene točnosti:  24.0\n",
      "Računam SOR metodom za omega =  1.3\n",
      "Broj koraka potreban za dostizanje tražene točnosti:  25.0\n",
      "Računam SOR metodom za omega =  1.31\n",
      "Broj koraka potreban za dostizanje tražene točnosti:  25.0\n",
      "Računam SOR metodom za omega =  1.32\n",
      "Broj koraka potreban za dostizanje tražene točnosti:  26.0\n",
      "Računam SOR metodom za omega =  1.33\n",
      "Broj koraka potreban za dostizanje tražene točnosti:  27.0\n",
      "Računam SOR metodom za omega =  1.34\n",
      "Broj koraka potreban za dostizanje tražene točnosti:  27.0\n",
      "Računam SOR metodom za omega =  1.35\n",
      "Broj koraka potreban za dostizanje tražene točnosti:  28.0\n",
      "Računam SOR metodom za omega =  1.36\n",
      "Broj koraka potreban za dostizanje tražene točnosti:  28.0\n",
      "Računam SOR metodom za omega =  1.37\n",
      "Broj koraka potreban za dostizanje tražene točnosti:  29.0\n",
      "Računam SOR metodom za omega =  1.3800000000000001\n",
      "Broj koraka potreban za dostizanje tražene točnosti:  30.0\n",
      "Računam SOR metodom za omega =  1.3900000000000001\n",
      "Broj koraka potreban za dostizanje tražene točnosti:  30.0\n",
      "Računam SOR metodom za omega =  1.4000000000000001\n",
      "Broj koraka potreban za dostizanje tražene točnosti:  31.0\n",
      "Računam SOR metodom za omega =  1.4100000000000001\n",
      "Broj koraka potreban za dostizanje tražene točnosti:  32.0\n",
      "Računam SOR metodom za omega =  1.42\n",
      "Broj koraka potreban za dostizanje tražene točnosti:  33.0\n",
      "Računam SOR metodom za omega =  1.43\n",
      "Broj koraka potreban za dostizanje tražene točnosti:  33.0\n",
      "Računam SOR metodom za omega =  1.44\n",
      "Broj koraka potreban za dostizanje tražene točnosti:  34.0\n",
      "Računam SOR metodom za omega =  1.45\n",
      "Broj koraka potreban za dostizanje tražene točnosti:  35.0\n",
      "Računam SOR metodom za omega =  1.46\n",
      "Broj koraka potreban za dostizanje tražene točnosti:  36.0\n",
      "Računam SOR metodom za omega =  1.47\n",
      "Broj koraka potreban za dostizanje tražene točnosti:  37.0\n",
      "Računam SOR metodom za omega =  1.48\n",
      "Broj koraka potreban za dostizanje tražene točnosti:  38.0\n",
      "Računam SOR metodom za omega =  1.49\n",
      "Broj koraka potreban za dostizanje tražene točnosti:  39.0\n",
      "Računam SOR metodom za omega =  1.5\n",
      "Broj koraka potreban za dostizanje tražene točnosti:  40.0\n",
      "Računam SOR metodom za omega =  1.51\n",
      "Broj koraka potreban za dostizanje tražene točnosti:  41.0\n",
      "Računam SOR metodom za omega =  1.52\n",
      "Broj koraka potreban za dostizanje tražene točnosti:  42.0\n",
      "Računam SOR metodom za omega =  1.53\n",
      "Broj koraka potreban za dostizanje tražene točnosti:  43.0\n",
      "Računam SOR metodom za omega =  1.54\n",
      "Broj koraka potreban za dostizanje tražene točnosti:  44.0\n",
      "Računam SOR metodom za omega =  1.55\n",
      "Broj koraka potreban za dostizanje tražene točnosti:  45.0\n",
      "Računam SOR metodom za omega =  1.56\n",
      "Broj koraka potreban za dostizanje tražene točnosti:  46.0\n",
      "Računam SOR metodom za omega =  1.57\n",
      "Broj koraka potreban za dostizanje tražene točnosti:  47.0\n",
      "Računam SOR metodom za omega =  1.58\n",
      "Broj koraka potreban za dostizanje tražene točnosti:  49.0\n",
      "Računam SOR metodom za omega =  1.59\n",
      "Broj koraka potreban za dostizanje tražene točnosti:  50.0\n",
      "Računam SOR metodom za omega =  1.6\n",
      "Broj koraka potreban za dostizanje tražene točnosti:  52.0\n",
      "Računam SOR metodom za omega =  1.61\n",
      "Broj koraka potreban za dostizanje tražene točnosti:  53.0\n",
      "Računam SOR metodom za omega =  1.62\n",
      "Broj koraka potreban za dostizanje tražene točnosti:  55.0\n",
      "Računam SOR metodom za omega =  1.6300000000000001\n",
      "Broj koraka potreban za dostizanje tražene točnosti:  57.0\n",
      "Računam SOR metodom za omega =  1.6400000000000001\n",
      "Broj koraka potreban za dostizanje tražene točnosti:  59.0\n",
      "Računam SOR metodom za omega =  1.6500000000000001\n",
      "Broj koraka potreban za dostizanje tražene točnosti:  60.0\n",
      "Računam SOR metodom za omega =  1.6600000000000001\n",
      "Broj koraka potreban za dostizanje tražene točnosti:  62.0\n",
      "Računam SOR metodom za omega =  1.6700000000000002\n",
      "Broj koraka potreban za dostizanje tražene točnosti:  65.0\n",
      "Računam SOR metodom za omega =  1.68\n",
      "Broj koraka potreban za dostizanje tražene točnosti:  67.0\n",
      "Računam SOR metodom za omega =  1.69\n",
      "Broj koraka potreban za dostizanje tražene točnosti:  69.0\n",
      "Računam SOR metodom za omega =  1.7\n",
      "Broj koraka potreban za dostizanje tražene točnosti:  72.0\n",
      "Računam SOR metodom za omega =  1.71\n",
      "Broj koraka potreban za dostizanje tražene točnosti:  75.0\n",
      "Računam SOR metodom za omega =  1.72\n",
      "Broj koraka potreban za dostizanje tražene točnosti:  78.0\n",
      "Računam SOR metodom za omega =  1.73\n",
      "Broj koraka potreban za dostizanje tražene točnosti:  81.0\n",
      "Računam SOR metodom za omega =  1.74\n",
      "Broj koraka potreban za dostizanje tražene točnosti:  84.0\n",
      "Računam SOR metodom za omega =  1.75\n",
      "Broj koraka potreban za dostizanje tražene točnosti:  88.0\n",
      "Računam SOR metodom za omega =  1.76\n",
      "Broj koraka potreban za dostizanje tražene točnosti:  92.0\n",
      "Računam SOR metodom za omega =  1.77\n",
      "Broj koraka potreban za dostizanje tražene točnosti:  97.0\n",
      "Računam SOR metodom za omega =  1.78\n",
      "Broj koraka potreban za dostizanje tražene točnosti:  101.0\n",
      "Računam SOR metodom za omega =  1.79\n",
      "Broj koraka potreban za dostizanje tražene točnosti:  107.0\n",
      "Računam SOR metodom za omega =  1.8\n",
      "Broj koraka potreban za dostizanje tražene točnosti:  112.0\n",
      "Računam SOR metodom za omega =  1.81\n",
      "Broj koraka potreban za dostizanje tražene točnosti:  118.0\n",
      "Računam SOR metodom za omega =  1.82\n",
      "Broj koraka potreban za dostizanje tražene točnosti:  126.0\n",
      "Računam SOR metodom za omega =  1.83\n",
      "Broj koraka potreban za dostizanje tražene točnosti:  134.0\n",
      "Računam SOR metodom za omega =  1.84\n",
      "Broj koraka potreban za dostizanje tražene točnosti:  143.0\n",
      "Računam SOR metodom za omega =  1.85\n",
      "Broj koraka potreban za dostizanje tražene točnosti:  153.0\n",
      "Računam SOR metodom za omega =  1.86\n",
      "Broj koraka potreban za dostizanje tražene točnosti:  164.0\n",
      "Računam SOR metodom za omega =  1.87\n",
      "Broj koraka potreban za dostizanje tražene točnosti:  177.0\n",
      "Računam SOR metodom za omega =  1.8800000000000001\n",
      "Broj koraka potreban za dostizanje tražene točnosti:  193.0\n",
      "Računam SOR metodom za omega =  1.8900000000000001\n",
      "Broj koraka potreban za dostizanje tražene točnosti:  211.0\n",
      "Računam SOR metodom za omega =  1.9000000000000001\n",
      "Broj koraka potreban za dostizanje tražene točnosti:  233.0\n",
      "Računam SOR metodom za omega =  1.9100000000000001\n",
      "Broj koraka potreban za dostizanje tražene točnosti:  261.0\n",
      "Računam SOR metodom za omega =  1.9200000000000002\n",
      "Broj koraka potreban za dostizanje tražene točnosti:  294.0\n",
      "Računam SOR metodom za omega =  1.93\n",
      "Broj koraka potreban za dostizanje tražene točnosti:  337.0\n",
      "Računam SOR metodom za omega =  1.94\n",
      "Broj koraka potreban za dostizanje tražene točnosti:  395.0\n",
      "Računam SOR metodom za omega =  1.95\n"
     ]
    },
    {
     "name": "stdout",
     "output_type": "stream",
     "text": [
      "Broj koraka potreban za dostizanje tražene točnosti:  476.0\n",
      "Računam SOR metodom za omega =  1.96\n",
      "Broj koraka potreban za dostizanje tražene točnosti:  601.0\n",
      "Računam SOR metodom za omega =  1.97\n",
      "Broj koraka potreban za dostizanje tražene točnosti:  802.0\n",
      "Računam SOR metodom za omega =  1.98\n",
      "Broj koraka potreban za dostizanje tražene točnosti:  1208.0\n",
      "Računam SOR metodom za omega =  1.99\n",
      "Broj koraka potreban za dostizanje tražene točnosti:  2418.0\n"
     ]
    }
   ],
   "source": [
    "omegas = np.linspace(0.01,1.99,199)\n",
    "stepNumber = np.zeros(len(omegas))\n",
    "x = np.zeros((len(omegas),len(rhs)))\n",
    "for i in range(len(omegas)):\n",
    "    print('Računam SOR metodom za omega = ', omegas[i])\n",
    "    x[i], residual, approximation = sor(unknown, stieltjes, rhs, omegas[i], tolerance)\n",
    "    stepNumber[i] = len(residual)\n",
    "    print('Broj koraka potreban za dostizanje tražene točnosti: ', stepNumber[i])"
   ]
  },
  {
   "cell_type": "code",
   "execution_count": 8,
   "metadata": {},
   "outputs": [
    {
     "data": {
      "text/plain": [
       "[<matplotlib.lines.Line2D at 0x296fb38a908>]"
      ]
     },
     "execution_count": 8,
     "metadata": {},
     "output_type": "execute_result"
    },
    {
     "data": {
      "image/png": "[encoded data removed]",
      "text/plain": [
       "<Figure size 432x288 with 2 Axes>"
      ]
     },
     "metadata": {
      "needs_background": "light"
     },
     "output_type": "display_data"
    }
   ],
   "source": [
    "fig1, (ax1, ax2) = plt.subplots(1,2)\n",
    "\n",
    "# ovaj plot prikazuje broj iteracija za svaki omega\n",
    "ax1.plot(omegas, stepNumber, label='Broj iteracija',color='red')\n",
    "\n",
    "# ovaj plot prikazuje broj iteracija za one omege za koje se tražena točnost postiže\n",
    "# u manje od 100 koraka\n",
    "ax2.plot(omegas[74:178], stepNumber[74:178], label='Za omega <= 100', color='blue')"
   ]
  },
  {
   "cell_type": "markdown",
   "metadata": {},
   "source": [
    "Možemo vidjeti da za $\\omega=1.28$ i $\\omega=1.29$ dobivamo traženo aproksimativno rješenje u najmanje koraka, točnije $24$. Jednostavnosti radi, neka je $\\omega=1.28$."
   ]
  },
  {
   "cell_type": "code",
   "execution_count": 9,
   "metadata": {},
   "outputs": [
    {
     "name": "stdout",
     "output_type": "stream",
     "text": [
      "Optimalan omega:  1.28\n",
      "Broj koraka za optimalan omega:  24.0\n"
     ]
    }
   ],
   "source": [
    "print('Optimalan omega: ', omegas[np.argmin(stepNumber)])\n",
    "print('Broj koraka za optimalan omega: ', stepNumber.min())"
   ]
  },
  {
   "cell_type": "code",
   "execution_count": 10,
   "metadata": {},
   "outputs": [
    {
     "name": "stdout",
     "output_type": "stream",
     "text": [
      "Wall time: 6.98 ms\n",
      "Wall time: 2.99 ms\n",
      "Wall time: 1.99 ms\n",
      "Wall time: 13 ms\n"
     ]
    }
   ],
   "source": [
    "%%time\n",
    "# rješavanje sustava koristeći Jacobijevu metodu\n",
    "%time xJacobi, resJacobi, approxJacobi = jacobi(unknown, stieltjes, rhs, tolerance)\n",
    "\n",
    "# rješavanje sustava koristeći Gauss-Seidelovu metodu\n",
    "%time xGS, resGS, approxGS = gaussSeidel(unknown, stieltjes, rhs, tolerance)\n",
    "\n",
    "# rješavanje sustava koristeći SOR metodu\n",
    "%time xSOR, resSOR, approxSOR = sor(unknown, stieltjes, rhs, omegas[np.argmin(stepNumber)], tolerance)"
   ]
  },
  {
   "cell_type": "code",
   "execution_count": 11,
   "metadata": {},
   "outputs": [
    {
     "data": {
      "image/png": "[encoded data removed]",
      "text/plain": [
       "<Figure size 432x288 with 1 Axes>"
      ]
     },
     "metadata": {
      "needs_background": "light"
     },
     "output_type": "display_data"
    }
   ],
   "source": [
    "fig2, ax = plt.subplots()\n",
    "labels = [len(resJacobi), len(resGS), len(resSOR)]\n",
    "barlist = ax.bar(['Jacobi', 'Gauss-Seidel', 'SOR'], labels, width=0.3)\n",
    "barlist[0].set_color('r')\n",
    "barlist[1].set_color('b')\n",
    "barlist[2].set_color('g')\n",
    "\n",
    "bars = ax.patches\n",
    "\n",
    "for bar, label in zip(bars, labels):\n",
    "    height = bar.get_height()\n",
    "    ax.text(bar.get_x() + bar.get_width() / 2, height, label,\n",
    "            ha='center', va='bottom')\n",
    "plt.show()"
   ]
  },
  {
   "cell_type": "markdown",
   "metadata": {},
   "source": [
    "Također primijetimo da za $\\omega=1$, i SOR metoda daje traženo aproksimativno rješenje u $55$ koraka. "
   ]
  },
  {
   "cell_type": "markdown",
   "metadata": {},
   "source": [
    "Pokretanjem koda u idućoj ćeliji, dobit ćemo slikovni prikaz iteracija. Budući da Jacobijeva metoda daje aproksimativno rješenje u 105 iteracija, Gauss-Seidelova u 55, a SOR za odabrani $\\omega$ u $24$, preporučam preskočiti pokretanje donjeg (zakomentiranog) koda, radije pogledajmo $3$ videa koji se nalaze ispod sljedeće ćelije."
   ]
  },
  {
   "cell_type": "code",
   "execution_count": 12,
   "metadata": {},
   "outputs": [],
   "source": [
    "# kreiranje plotova Jacobijeve metode\n",
    "# plt.plot(np.arange(1,101), one, label='egzaktno rješenje')\n",
    "# plt.title(\"Jacobijeva metoda\")\n",
    "# plt.legend(loc='lower center', bbox_to_anchor=(0.5, -0.05),\n",
    "#            fancybox=True, shadow=True, ncol=5)\n",
    "# for i in range(0,len(approxJacobi)):\n",
    "#     plt.plot(xAxis,approxJacobi[i].T)\n",
    "#     plt.savefig(\"Jacobi\" + str(i) + \".png\")\n",
    "\n",
    "# kreiranje plotova Gauss-Seidelove metode\n",
    "# plt.plot(xAxis, one, label='egzaktno rješenje')\n",
    "# plt.title(\"Gauss-Seidelova metoda\")\n",
    "# plt.legend(loc='lower center', bbox_to_anchor=(0.5, -0.05),\n",
    "#           fancybox=True, shadow=True, ncol=5)\n",
    "# for i in range(0,len(approxGS)):\n",
    "#     plt.plot(xAxis,approxGS[i].T)\n",
    "#     plt.savefig(\"GS\" + str(i) + \".png\")\n",
    "\n",
    "# kreiranje plotova SOR metode s odabranim omega = 1.28\n",
    "# plt.plot(xAxis, one, label='egzaktno rješenje')\n",
    "# plt.title(\"SOR metoda\")\n",
    "# plt.legend(loc='lower center', bbox_to_anchor=(0.5, -0.05),\n",
    "#            fancybox=True, shadow=True, ncol=5)\n",
    "# for i in range(0,len(approxSOR)):\n",
    "#     plt.plot(xAxis,approxSOR[i].T)\n",
    "#     plt.savefig(\"SOR\" + str(i) + \".png\")"
   ]
  },
  {
   "cell_type": "code",
   "execution_count": 13,
   "metadata": {},
   "outputs": [
    {
     "data": {
      "text/html": [
       "<video src=\"JacobiStieltjes.mp4\" controls  >\n",
       "      Your browser does not support the <code>video</code> element.\n",
       "    </video>"
      ],
      "text/plain": [
       "<IPython.core.display.Video object>"
      ]
     },
     "execution_count": 13,
     "metadata": {},
     "output_type": "execute_result"
    }
   ],
   "source": [
    "from IPython.display import Video\n",
    "Video(\"JacobiStieltjes.mp4\")"
   ]
  },
  {
   "cell_type": "code",
   "execution_count": 14,
   "metadata": {},
   "outputs": [
    {
     "data": {
      "text/html": [
       "<video src=\"GaussSeidelStieltjes.mp4\" controls  >\n",
       "      Your browser does not support the <code>video</code> element.\n",
       "    </video>"
      ],
      "text/plain": [
       "<IPython.core.display.Video object>"
      ]
     },
     "execution_count": 14,
     "metadata": {},
     "output_type": "execute_result"
    }
   ],
   "source": [
    "Video(\"GaussSeidelStieltjes.mp4\")"
   ]
  },
  {
   "cell_type": "code",
   "execution_count": 15,
   "metadata": {},
   "outputs": [
    {
     "data": {
      "text/html": [
       "<video src=\"SORStieltjes.mp4\" controls  >\n",
       "      Your browser does not support the <code>video</code> element.\n",
       "    </video>"
      ],
      "text/plain": [
       "<IPython.core.display.Video object>"
      ]
     },
     "execution_count": 15,
     "metadata": {},
     "output_type": "execute_result"
    }
   ],
   "source": [
    "Video(\"SORStieltjes.mp4\")"
   ]
  },
  {
   "cell_type": "markdown",
   "metadata": {},
   "source": [
    "Pogledajmo za kraj koliko je aproksimativno rješenje svake metode blizu egzaktnom rješenju:"
   ]
  },
  {
   "cell_type": "code",
   "execution_count": 16,
   "metadata": {},
   "outputs": [
    {
     "data": {
      "text/plain": [
       "<matplotlib.legend.Legend at 0x296fb465788>"
      ]
     },
     "execution_count": 16,
     "metadata": {},
     "output_type": "execute_result"
    },
    {
     "data": {
      "image/png": "[encoded data removed]",
      "text/plain": [
       "<Figure size 432x288 with 1 Axes>"
      ]
     },
     "metadata": {
      "needs_background": "light"
     },
     "output_type": "display_data"
    }
   ],
   "source": [
    "plt.ylim([1-1e-9, 1+1e-9])\n",
    "plt.plot(xAxis, one, label='egzaktno rješenje')\n",
    "plt.plot(xAxis, approxJacobi[-1].T, label='aproksimativno rješenje Jacobi', color='red')\n",
    "plt.plot(xAxis, approxGS[-1].T, label='aproksimativno rješenje Gauss-Seidel', color='green')\n",
    "plt.plot(xAxis, approxSOR[-1].T, label='aproksimativno rješenje SOR', color='orange')\n",
    "plt.legend()"
   ]
  },
  {
   "cell_type": "markdown",
   "metadata": {},
   "source": [
    "### 1.5. Zaključak <a name=\"Zakljucak1\"></a>"
   ]
  },
  {
   "cell_type": "code",
   "execution_count": null,
   "metadata": {},
   "outputs": [],
   "source": []
  },
  {
   "cell_type": "markdown",
   "metadata": {},
   "source": [
    "# 2. Numeričko rješavanje"
   ]
  },
  {
   "cell_type": "markdown",
   "metadata": {},
   "source": [
    "## 2.1. Uvod<a name=\"uvod2\"></a>"
   ]
  },
  {
   "cell_type": "markdown",
   "metadata": {},
   "source": [
    "U mnogim primjenama u prirodnim i inžinjerskim znanostima vremenska promjena stanja promatranog sustava opisuje se diferencijalnim jednadžbama koje matematički opisuju zakone:\n",
    "$$\n",
    "\\begin{equation}\n",
    "    y'(t) = f(t,y(t)),\\; t\\geq t_{0}\\\\\n",
    "    y(t_{0}) = y_{0} \\label{eq:12}\\tag{12}\n",
    "\\end{equation}\n",
    "$$\n",
    "\n",
    "Pri tome je $f:I\\times\\mathbb{R}^{d}\\mapsto\\mathbb{R}^{d}$, gdje je $I\\subseteq\\mathbb{R}$ otvoren interval, $t_{0}\\in I$, $d\\geq 1$ i $y_{0}\\in\\mathbb{R}^{d}$. Po komponentama, problem $\\eqref{eq:12}$ glasi\n",
    "\n",
    "$$\n",
    "\\begin{pmatrix}\n",
    "    y'_{1}(t)\\\\\n",
    "    y'_{2}(t)\\\\\n",
    "    \\vdots\\\\\n",
    "    y'_{d}(t)\n",
    "\\end{pmatrix}= \n",
    "\\begin{pmatrix}\n",
    "    f_{1}(t,y_{1}(t),y_{2}(t),...,y_{d}(t))\\\\\n",
    "    f_{2}(t,y_{1}(t),y_{2}(t),...,y_{d}(t))\\\\\n",
    "    \\vdots\\\\\n",
    "    f_{d}(t,y_{1}(t),y_{2}(t),...,y_{d}(t))\n",
    "\\end{pmatrix}, \n",
    "\\begin{pmatrix}\n",
    "    y'_{1}(t_{0})\\\\\n",
    "    y'_{2}(t_{0})\\\\\n",
    "    \\vdots\\\\\n",
    "    y'_{d}(t_{0})\n",
    "\\end{pmatrix}=\n",
    "\\begin{pmatrix}\n",
    "    (y_{0})_{1}\\\\\n",
    "    (y_{0})_{2}\\\\\n",
    "    \\vdots\\\\\n",
    "    (y_{0})_{n}\n",
    "\\end{pmatrix}\n",
    "$$\n",
    "\n",
    "Kažemo da je $\\eqref{eq:12}$ inicijalni problem za sustav običnih diferencijalnih jednadžbi. Ako je\n",
    "\n",
    "$$\n",
    "f(t,x_{1},x_{2},...,x_{d}) = A(t)\n",
    "\\begin{pmatrix}\n",
    "    x_{1}\\\\\n",
    "    x_{2}\\\\\n",
    "    \\vdots\\\\\n",
    "    x_{n}\n",
    "\\end{pmatrix}+\n",
    "\\begin{pmatrix}\n",
    "    b_{1}(t)\\\\\n",
    "    b_{2}(t)\\\\\n",
    "    \\vdots\\\\\n",
    "    b_{n}(t)\n",
    "\\end{pmatrix}$$\n",
    "\n",
    "onda kažemo da je sustav ODJ linearan.\n",
    "\n",
    "Kao što sam naslov kaže, naš je cilj riješiti problem $\\eqref{eq:12}$ numerički. To znači izračunati aproksimacije vrijednosti u konačno točaka $t_{1},t_{2},...,t_{n}$ u zadanom intervalu $[t_{0},T]$.\n",
    "\n",
    "Metode rješavanja inicijalnog problema za obične diferencijalne jednadžbe numeričkim aproksimacijama dijelimo na implicitne i eksplicitne te na jednokoračne i višekoračne metode. Eksplicitne metode računaju stanje u idućem vremenskom sloju koristeći trenutni vremenski sloj, dok implicitne metode rješavaju sustav koristeći idući i trenutni vremenski sloj.\n",
    "\n",
    "Matematički zapisano, ako $Y(t)$ predstavlja stanje u trenutnom vremenskom sloju a $Y(t+\\Delta t)$ predstavlja stanje u idućem vremenskom sloju (gdje $\\Delta t$ predstavlja mali korak u vremenu, $\\Delta t> 0$), tada za eksplicitnu metodu rješavamo sustav oblika\n",
    "\n",
    "$$ Y(t+\\Delta t) = F(Y(t)) $$\n",
    "\n",
    "dok za implicitnu metodu rješavamo sustav oblika\n",
    "\n",
    "$$ G(Y(t),Y(t+\\Delta t))=0$$\n",
    "\n",
    "kako bismo dobili $Y(t+\\Delta t)$.\n",
    "\n",
    "Jednokoračne metode za numeričko rješavanje trenutnog vremenskog sloja koriste samo jedan, prethodni vremenski sloj, dok višekoračne metode za numeričko rješavanje trenutnog vremenskog sloja koriste dio prošlosti, a ne samo prethodni vremenski sloj. Najprije ćemo navesti jednostavne primjere jednokoračnih metoda, a zatim jednu višekoračnu metodu koja koristi $4$ prethodna vremenska sloja. \n",
    "\n",
    "Metode koje ćemo navesti i objasniti su Eulerova metoda, trapezna metoda i Adams–Bashforthova metoda."
   ]
  },
  {
   "cell_type": "markdown",
   "metadata": {},
   "source": [
    "## 2.2. Jednokoračne metode <a name=\"jednokoracne\"></a>"
   ]
  },
  {
   "cell_type": "markdown",
   "metadata": {},
   "source": [
    "### 2.2.1. Eulerova metoda<a name=\"Euler\"></a>"
   ]
  },
  {
   "cell_type": "markdown",
   "metadata": {},
   "source": [
    "Eulerova metoda najjednostavniji je primjer jednokoračne eksplicitne metode – vrijednost $y_{i+1}$ dobivena je eksplicitnim izrazom koji koristi informaciju samo iz jednog prethodnog koraka $t_{i}$.\n",
    "\n",
    "Ključni element numeričkog rješavanja inicijalnog problema\n",
    "$$\n",
    "\\begin{equation}\n",
    "    y'(t) = f(t,y(t)),\\; t\\geq t_{0}\\\\\n",
    "    y(t_{0}) = y_{0}\n",
    "\\end{equation}\n",
    "$$ \n",
    "\n",
    "je kako iskoristiti diferencijalnu jednadžbu i od poznate vrijednosti $y(t_{0})$ dobiti što bolju aproksimaciju za $y(t_{1})$, i tako sve do $y(t_{n})$.\n",
    "\n",
    "$$ y(t_{i+1})-y(t_{i}) = \\int_{t_{i}}^{t_{i+1}}y'(\\tau)d\\tau = \\int_{t_{i}}^{t_{i+1}} f(\\tau,y(\\tau))d\\tau. $$\n",
    "\n",
    "Uočimo da relaciju\n",
    "\n",
    "$$ y(t_{i+1}) = y(t_{i}) + \\int_{t_{i}}^{t_{i+1}} f(\\tau,y(\\tau))d\\tau $$\n",
    "\n",
    "možemo iskoristiti za aproksimaciju $y(t_{i+1})$ tako što ćemo aproksimirati numeričku vrijednost integrala. Istina, vrijednost podintegralne funkcije znamo samo u lijevom rubu intervala $[t_{i},t_{i+1}]$ pa je najjednostavnije što možemo učiniti sljedeće\n",
    "\n",
    "$$ \\int_{t_{i}}^{t_{i+1}} f(\\tau,y(\\tau))d\\tau \\approx (t_{i+1}-t_{i})f(t_{i},y(t_{i})) $$\n",
    "\n",
    "pa imamo\n",
    "\n",
    "$$ y(t_{i+1}) \\approx y(t_{i}) + (t_{i+1}-t_{i})f(t_{i},y(t_{i})). $$\n",
    "\n",
    "Promotrimo ideju na idućem primjeru. Integral funkcije između točke $t_{i}=1$ i $t_{i+1}=1.3$ aproksimiramo površinom pravokutnika $(1.3-1)\\cdot f(1,y(1))$. Za dovoljno mali korak $\\Delta t$, površina $X$ je zanemarivo mala, razlika površinâ je dovoljno mala, dakle aproksimacija je dovoljno dobra."
   ]
  },
  {
   "cell_type": "code",
   "execution_count": 21,
   "metadata": {},
   "outputs": [
    {
     "data": {
      "text/plain": [
       "<matplotlib.legend.Legend at 0x296fb6746c8>"
      ]
     },
     "execution_count": 21,
     "metadata": {},
     "output_type": "execute_result"
    },
    {
     "data": {
      "image/png": "[encoded data removed]",
      "text/plain": [
       "<Figure size 432x288 with 1 Axes>"
      ]
     },
     "metadata": {
      "needs_background": "light"
     },
     "output_type": "display_data"
    }
   ],
   "source": [
    "x = np.linspace(0, 2, 201)\n",
    "fig5, ax = plt.subplots()\n",
    "ax.axhline(y=0, color='k')\n",
    "ax.axvline(x=0, color='k')\n",
    "ax.plot(x, x**2, color='green', linestyle='--', label='egzaktna funkcija')\n",
    "ax.plot([1., 1., 1.3, 1.3, 1.], [0., 1., 1., 0., 0.], color='red', label='Aproksimativna površina')\n",
    "ax.plot([1.3, 1.3],[0., 1.69], color='green', linestyle=':', marker = '.')\n",
    "ax.plot([1., 1.],[0., 1.], color='green', linestyle=':', marker = '.')\n",
    "ax.text(1.22,1.2, 'X')\n",
    "ax.legend(bbox_to_anchor=(1.05, 1), loc='upper left')"
   ]
  },
  {
   "cell_type": "markdown",
   "metadata": {},
   "source": [
    "Neka je $n$ broj točaka u kojima ćemo aproksimirati rješenje. Diskretne vrijednosti $t_{0},t_{1},...,t_{n}$ možemo birati sa varijabilnim koracima $h_{i}=t_{i+1}-t_{i}$, za sve $i=0,1,...,n$."
   ]
  },
  {
   "cell_type": "markdown",
   "metadata": {},
   "source": [
    "Eulerov algoritam:"
   ]
  },
  {
   "cell_type": "code",
   "execution_count": 22,
   "metadata": {},
   "outputs": [],
   "source": [
    "def euler(f, y, t, T, n):\n",
    "    d = len(y)\n",
    "    x = np.linspace(t, T, n+1)\n",
    "    h = (T-t) / n\n",
    "    solution = np.zeros((d, n+1))\n",
    "    solution[:, 0] = y\n",
    "    for i in range(0, n):\n",
    "        solution[:, i+1] = solution[:, i] + h*f(x[i], solution[:, i])\n",
    "    return solution"
   ]
  },
  {
   "cell_type": "markdown",
   "metadata": {},
   "source": [
    "### 2.2.2. Trapezna metoda<a name=\"trapez\"></a>"
   ]
  },
  {
   "cell_type": "markdown",
   "metadata": {},
   "source": [
    "Trapezna metoda najjednostavniji je primjer jednokoračne implicitne metode. Aproksimativna vrijednost $y(t_{i+1})$ dobije se koristeći informaciju u trenutku $t_{i}$ i pri tome je aproksimacija definirana implicitno kao rješenje jednadžbe. Ideja metode je jednostavna: umjesto pravokutnikom, integral u izrazu\n",
    "\n",
    "$$ y(t_{i+1}) = y(t_{i}) + \\int_{t_{i}}^{t_{i+1}} f(\\tau,y(\\tau))d\\tau $$\n",
    "\n",
    "aproksimiramo površinom\n",
    "\n",
    "$$ \\int_{t_{i}}^{t_{i+1}} f(\\tau,y(\\tau))d\\tau \\approx \\frac{t_{i+1}-t_{i}}{2}(f(t_{i},y(t_{i}))+f(t_{i+1},y(t_{i+1}))) $$\n",
    "\n",
    "Primjerom kojim smo se poslužili za Eulerovu metodu, imamo"
   ]
  },
  {
   "cell_type": "code",
   "execution_count": 27,
   "metadata": {},
   "outputs": [
    {
     "data": {
      "text/plain": [
       "<matplotlib.legend.Legend at 0x296fb710188>"
      ]
     },
     "execution_count": 27,
     "metadata": {},
     "output_type": "execute_result"
    },
    {
     "data": {
      "image/png": "[encoded data removed]",
      "text/plain": [
       "<Figure size 432x288 with 1 Axes>"
      ]
     },
     "metadata": {
      "needs_background": "light"
     },
     "output_type": "display_data"
    }
   ],
   "source": [
    "x = np.linspace(0, 2, 201)\n",
    "fig6, ax1 = plt.subplots()\n",
    "ax1.axhline(y=0, color='k')\n",
    "ax1.axvline(x=0, color='k')\n",
    "ax1.plot(x, x**2, color='green', linestyle='--', label='egzaktna funkcija')\n",
    "ax1.plot([1., 1., 1.5, 1.5, 1.], [0., 1., 2.25, 0., 0.], color='red', label='Aproksimativna površina')\n",
    "ax1.plot([1.5, 1.5],[0., 2.25], color='green', linestyle=':', marker = '.')\n",
    "ax1.plot([1., 1.],[0., 1.], color='green', linestyle=':', marker = '.')\n",
    "ax1.legend(bbox_to_anchor=(1.05, 1), loc='upper left')"
   ]
  },
  {
   "cell_type": "code",
   "execution_count": 26,
   "metadata": {},
   "outputs": [
    {
     "data": {
      "text/plain": [
       "<matplotlib.legend.Legend at 0x296fe80fe08>"
      ]
     },
     "execution_count": 26,
     "metadata": {},
     "output_type": "execute_result"
    },
    {
     "data": {
      "image/png": "[encoded data removed]",
      "text/plain": [
       "<Figure size 432x288 with 2 Axes>"
      ]
     },
     "metadata": {
      "needs_background": "light"
     },
     "output_type": "display_data"
    }
   ],
   "source": [
    "y = x[100:151]\n",
    "fig7, (ax2, ax3) = plt.subplots(2,1)\n",
    "ax2.plot(y, y**2, color='green', linestyle='--', label='egzaktna funkcija')\n",
    "ax2.plot([1., 1.5], [1.,2.25], color='red', label='aproksimacija površine trapeznom metodom')\n",
    "ax2.plot([1., 1., 1.5, 1.5], [1., 0., 0., 2.25], color='red', linestyle='--')\n",
    "ax2.plot([1., 1.3],[1., 1.], color='blue', linestyle=':', label='aproksimacija površine Eulerovom metodom')\n",
    "ax2.legend(bbox_to_anchor=(1.05, 1), loc='upper left')\n",
    "ax3.plot(y, y**2, color='green', linestyle='--', label='egzaktna funkcija')\n",
    "ax3.plot([1., 1.5], [1.,2.25], color='red', label='aproksimacija funkcije')\n",
    "ax3.legend(bbox_to_anchor=(1.05, 1), loc='upper left')"
   ]
  },
  {
   "cell_type": "markdown",
   "metadata": {},
   "source": [
    "Vidmo kako je površina između aproksimativne i egzaktne funkcije manja nego što je bila u primjeru za Eulerovu metodu."
   ]
  },
  {
   "cell_type": "markdown",
   "metadata": {},
   "source": [
    "Algoritam trapezne metode:"
   ]
  },
  {
   "cell_type": "code",
   "execution_count": 28,
   "metadata": {},
   "outputs": [],
   "source": [
    "from scipy.optimize import fsolve\n",
    "def trapeze(f, y, t, T, n):\n",
    "    d = len(y)\n",
    "    x = np.linspace(t, T, n+1)\n",
    "    h = (T-t) / n\n",
    "    solution = np.zeros((d, n+1))\n",
    "    solution[:, 0] = y\n",
    "    h = h / 2\n",
    "    for i in range(0, n):\n",
    "        def fun(g):\n",
    "            return g - solution[:,i] - h*(f(x[i], solution[:,i]) + f(x[i+1], g))\n",
    "        solution[:, i+1] = sp.optimize.fsolve(fun, solution[:, i])\n",
    "    return solution"
   ]
  },
  {
   "cell_type": "markdown",
   "metadata": {},
   "source": [
    "### 2.2.2. Runge–Kuttina metoda<a name=\"runge\"></a>"
   ]
  },
  {
   "cell_type": "markdown",
   "metadata": {},
   "source": [
    "Želja nam je poboljšati jednostavne jednokoračne metode. Polazimo od osnovne relacije\n",
    "\n",
    "$$ y(t_{i+1}) = y(t_{i}) + \\int_{t_{i}}^{t_{i+1}} f(\\tau,y(\\tau))d\\tau $$\n",
    "\n",
    "i u njoj pokušavamo aproksimirati numeričku vrijednost integrala koristeći dodatne čvorove u $[t_{k},t_{k+1}]$ i dodatne slobodne parametre koje ćemo naknadno namjestiti kako bismo dobili na točnosti. Konkretno, uzmimo na primjer tri čvora $\\xi_{1}, \\xi_{2}, \\xi_{3}$, tri dodatna parametra $c_{1},c_{2},c_{3}$ i potražimo formulu oblika\n",
    "\n",
    "$$ y_{k+1}=y_{k} + h(c_{1}f(\\xi_{1}, y(\\xi_{1})) + c_{2}f(\\xi_{2}, y(\\xi_{2})) + c_{3}f(\\xi_{3}, y(\\xi_{3}))).$$\n",
    "\n",
    "Odaberimo $\\xi_{1}=t_{k}, \\xi_{2}=t_{k}+a_{2}h, \\xi_{3}=t_{k}+a_{3}h \\text{ za } 0<a_{2},a_{3}<1.$\n",
    "\n",
    "Kako nam vrijednost $y(\\xi_{i})$ nisu dostupne, zamijenit ćemo ih slobodnim parametrima $A_{21}, A_{31}, A_{31}$:\n",
    "\n",
    "$$\n",
    "\\begin{equation}\n",
    "    y(\\xi_{1}) \\approx y_{k}\\\\\n",
    "    y(\\xi_{2}) \\approx y_{k} + hA_{21}f(t_{k}, y_{k})\\\\\n",
    "    y(\\xi_{1}) \\approx y_{k} + hA_{31}f(t_{k}, y_{k}) + hA_{32}f(t_{k}+a_{2}h, y_{k} + hA_{21}f(t_{k}, y_{k})).\n",
    "\\end{equation}\n",
    "$$\n",
    "\n",
    "Odavde dobivamo opći oblik k–tog koraka:\n",
    "\n",
    "$$\n",
    "\\begin{equation}\n",
    "    \\Psi_{1} = f(t_{k}, y_{k})\\\\\n",
    "    \\Psi_{2} = f(t_{k} + a_{2}h, y_{k}+hA_{21}\\Psi_{1})\\\\\n",
    "    \\Psi_{3} = f(t_{k} + a_{3}h, y_{k} + h(A_{31}\\Psi_{1} + A_{32}\\Psi_{2}))\\\\\n",
    "    y_{k+1} = y_{k} + h(c_{1}\\Psi_{1} + c_{2}\\Psi_{2} + c_{3}\\Psi_{3}).\n",
    "\\end{equation}\n",
    "$$\n",
    "\n",
    "Na prvi pogled djeluje kao da smo jako zakomplicirali Runge–Kuttinom metodom, ali zapravo smo dobili veći red metode. Drugim rječima, za jednak broj točaka subdivizije, dobit ćemo veću točnost, tj. manju grešku aproksimacije. To će nam biti korisno za Adams–Bashforthovu metodu, jer će se greška gomilati, a Runge–Kuttinom metodom ćemo \"nagomilati manju grešku\" u početnim iteracijama. No, hajdemo prvo napisati algoritam Runge–Kuttine metode:"
   ]
  },
  {
   "cell_type": "code",
   "execution_count": 29,
   "metadata": {},
   "outputs": [],
   "source": [
    "def rungeKutta(f, y, t, T, n):\n",
    "    \n",
    "    # inicijalizacija varijabli radi bolje čitljivosti koda\n",
    "    a1 = 0.\n",
    "    a2 = 0.5\n",
    "    a3 = 0.5\n",
    "    a4 = 1.\n",
    "    A21 = 0.5\n",
    "    A31 = 0.\n",
    "    A32 = 0.5\n",
    "    A41 = 0.\n",
    "    A42 = 0.\n",
    "    A43 = 1.\n",
    "    c1 = 1/6\n",
    "    c2 = 1/3\n",
    "    c3 = 1/3\n",
    "    c4 = 1/6\n",
    "    \n",
    "    d = len(y)\n",
    "    x = np.linspace(t, T, n+1)\n",
    "    h = (T-t) / n\n",
    "    solution = np.zeros((d, n+1))\n",
    "    solution[:, 0] = y\n",
    "    for i in range(0,n):\n",
    "        psi1 = f(x[i], solution[:,i])\n",
    "        psi2 = f(x[i] + h*a2, solution[:, i] + h*psi1*A21)\n",
    "        psi3 = f(x[i] + h*a3, solution[:, i] + h*(psi1*A31 + psi2*A32))\n",
    "        psi4 = f(x[i] + h*a4, solution[:, i] + h*(psi1*A41 + psi2*A42 + psi3*A43))\n",
    "        solution[:, i+1] = solution[:, i] + h*(c1*psi1 + c2*psi2 + c3*psi3)\n",
    "    return solution"
   ]
  },
  {
   "cell_type": "markdown",
   "metadata": {},
   "source": [
    "## 2.3. Višekoračne metode<a name=\"visekoracne\"></a>"
   ]
  },
  {
   "cell_type": "markdown",
   "metadata": {},
   "source": [
    "Kao što je gore već spomenuto, višekoračne metode za numeričko rješavanje trenutnog vremenskog sloja koriste dio prošlosti, a ne samo prethodni vremenski sloj. U ovom radu proći ćemo samo jednu takvu metodu, ali u [Literaturi](#Literatura) se nalazi više različitih linkova putem kojih možete saznati puno više o raznim drugim (višekoračnim) metodama."
   ]
  },
  {
   "cell_type": "markdown",
   "metadata": {},
   "source": [
    "### 2.3.1. Adams–Bashforthova metoda<a name=\"Adams\"></a>"
   ]
  },
  {
   "cell_type": "markdown",
   "metadata": {},
   "source": [
    "Za relaciju\n",
    "\n",
    "$$ y(t_{i+1}) = y(t_{i}) + \\int_{t_{i}}^{t_{i+1}} f(\\tau,y(\\tau))d\\tau $$\n",
    "\n",
    "kreiranjem Lagrangeovog interpolacijskog polinoma dobivamo\n",
    "\n",
    "$$ P_{3}(t) = \\sum_{j = 0}^{3}f(t_{k-j}, y_{k-j})L_{k-j}(t) $$\n",
    "\n",
    "gdje je \n",
    "\n",
    "$$ L_{k-j}(t) = \\frac{\\prod_{i\\neq k-j}(t-t_{i})}{\\prod_{i\\neq k-j}(t_{k-j}-t_{i})}.$$\n",
    "\n",
    "Iskoristimo Lagrangeov interpolacijski integral za aproksimaciju podintegralne funkcije na $[t_{k},t_{k+1}].$ Time smo definirali metodu oblika\n",
    "\n",
    "$$ y_{k+1} = y_{k} + \\sum_{j = 0}^{3}f(t_{k-j}, y_{k-j})\\int_{t_{k}}^{t_{k+1}}L_{k-j}(\\tau)d\\tau.$$\n",
    "\n",
    "Označimo $p_{j} = \\int_{t_{k}}^{t_{k+1}}L_{k-j}(\\tau)d\\tau.$ Jednostavnim računom dobivamo:\n",
    "$$\n",
    "p_{0} = \\frac{55}{24}h\\\\\n",
    "p_{1} = -\\frac{59}{24}h\\\\\n",
    "p_{2} = \\frac{37}{24}h\\\\\n",
    "p_{3} = -\\frac{9}{24}h\n",
    "$$\n",
    "\n",
    "gdje je $h$ korak ekvidistantne mreže."
   ]
  },
  {
   "cell_type": "markdown",
   "metadata": {},
   "source": [
    "Kao što smo spomenuli u dijelu o Runge–Kuttinoj metodi, želimo \"nagomilati manju grešku\" pa ćemo prve četiri vrijednosti izračunati koristeći Runge–Kuttinu metodu kako bismo uopće i mogli koristiti Adams–Bashforthovu metodu."
   ]
  },
  {
   "cell_type": "markdown",
   "metadata": {},
   "source": [
    "Algoritam Adams–Bashforthove metode:"
   ]
  },
  {
   "cell_type": "code",
   "execution_count": 30,
   "metadata": {},
   "outputs": [],
   "source": [
    "def adamsBashforth(f, y, t, T, n):\n",
    "    d = len(y)\n",
    "    x = np.linspace(t, T, n+1)\n",
    "    h = (T-t) / n\n",
    "    h24 = h / 24\n",
    "    solution = np.zeros((d, n+1))\n",
    "    solution[:, 0:4] = rungeKutta(f, y, t, t + 3*h, 3)\n",
    "    for i in range(4,n):\n",
    "        solution[:, i+1] = solution[:, i] + h24*(55*f(x[i], solution[:, i])\n",
    "                                                 - 59*f(x[i-1], solution[:, i-1])\n",
    "                                                 + 37*f(x[i-2], solution[:, i-2])\n",
    "                                                 - 9*f(x[i-3], solution[:, i-3]))\n",
    "    return solution"
   ]
  },
  {
   "cell_type": "markdown",
   "metadata": {},
   "source": [
    "## 2.4. Testiranje i usporedba na primjerima<a name=\"Testiranje2\"></a>"
   ]
  },
  {
   "cell_type": "markdown",
   "metadata": {},
   "source": [
    "### $f(t, x) = (x_{1} - 2x_{2} + 4cos(t) - 2sin(t),\\;\\;3x_{1} - 4x_{2} + 5cos(t) - 5sin(t))$"
   ]
  },
  {
   "cell_type": "code",
   "execution_count": 31,
   "metadata": {},
   "outputs": [],
   "source": [
    "def f(t, x):\n",
    "    g = np.array([x[0] - 2*x[1] + 4*np.cos(t) - 2*np.sin(t), 3*x[0] - 4*x[1] + 5*np.cos(t) - 5*np.sin(t)])\n",
    "    return g\n",
    "y = np.array([1, 2])\n",
    "t = 0\n",
    "T = 2 * np.pi\n",
    "n = 101\n",
    "x = np.linspace(t, T, n+1)\n",
    "exact = np.zeros((len(y), len(x)))\n",
    "exact[0] = np.cos(x) + np.sin(x)\n",
    "exact[1] = 2 * np.cos(x)"
   ]
  },
  {
   "cell_type": "code",
   "execution_count": 32,
   "metadata": {},
   "outputs": [
    {
     "name": "stdout",
     "output_type": "stream",
     "text": [
      "Wall time: 3 ms\n",
      "Wall time: 44.9 ms\n",
      "Wall time: 9.94 ms\n",
      "Wall time: 6.03 ms\n"
     ]
    }
   ],
   "source": [
    "%time yEuler = euler(f, y, t, T, n)\n",
    "%time yTrapeze = trapeze(f, y, t, T, n)\n",
    "%time yRK = rungeKutta(f, y, t, T, n)\n",
    "%time yAB = adamsBashforth(f, y, t, T, n)"
   ]
  },
  {
   "cell_type": "code",
   "execution_count": 33,
   "metadata": {},
   "outputs": [
    {
     "data": {
      "text/plain": [
       "<matplotlib.legend.Legend at 0x296fe952588>"
      ]
     },
     "execution_count": 33,
     "metadata": {},
     "output_type": "execute_result"
    },
    {
     "data": {
      "image/png": "[encoded data removed]",
      "text/plain": [
       "<Figure size 432x288 with 1 Axes>"
      ]
     },
     "metadata": {
      "needs_background": "light"
     },
     "output_type": "display_data"
    }
   ],
   "source": [
    "fig8, ax = plt.subplots()\n",
    "ax.axhline(y=0, color='k')\n",
    "ax.axvline(x=0, color='k')\n",
    "ax.plot(exact.T, color='blue', linestyle=':', label='egzaktno rješenje')\n",
    "#ax.plot(yEuler.T, color='red', label='Eulerova metoda')\n",
    "#ax.plot(yTrapeze.T, color='green', label='Trapezna metoda')\n",
    "#ax.plot(yRK.T, color='purple', label='Runge-Kutta metoda')\n",
    "ax.plot(yAB.T, color='orange', label='Adams-Bashforth metoda')\n",
    "ax.legend(bbox_to_anchor=(1.05, 1), loc='upper left')"
   ]
  },
  {
   "cell_type": "code",
   "execution_count": 34,
   "metadata": {},
   "outputs": [
    {
     "name": "stdout",
     "output_type": "stream",
     "text": [
      "Greška Eulerove metode:  0.03654070918066882\n",
      "Greška Trapezne metode:  0.0003280390170556924\n",
      "Greška Runge-Kutta metode:  0.17091241020324355\n",
      "Greška Adams-Bashforth metode:  1.9383979983993322\n"
     ]
    }
   ],
   "source": [
    "errorEuler = max(np.linalg.norm(yEuler[0] - exact[0], np.inf), np.linalg.norm(yEuler[1] - exact[1], np.inf))\n",
    "errorTrapeze = max(np.linalg.norm(yTrapeze[0] - exact[0], np.inf), np.linalg.norm(yTrapeze[1] - exact[1], np.inf))\n",
    "errorRK = max(np.linalg.norm(yRK[0] - exact[0], np.inf), np.linalg.norm(yRK[1] - exact[1], np.inf))\n",
    "errorAB = max(np.linalg.norm(yAB[0] - exact[0], np.inf), np.linalg.norm(yAB[1] - exact[1], np.inf))\n",
    "print('Greška Eulerove metode: ', errorEuler)\n",
    "print('Greška Trapezne metode: ', errorTrapeze)\n",
    "print('Greška Runge-Kutta metode: ', errorRK)\n",
    "print('Greška Adams-Bashforth metode: ', errorAB)"
   ]
  },
  {
   "cell_type": "markdown",
   "metadata": {},
   "source": [
    "## 2.5. Zaključak<a name=\"Zakljucak2\"></a>"
   ]
  },
  {
   "cell_type": "markdown",
   "metadata": {},
   "source": [
    "# 3. Literatura<a name=\"Literatura\"></a>"
   ]
  },
  {
   "cell_type": "markdown",
   "metadata": {},
   "source": [
    "<b> Prvi dio </b>\n",
    "\n",
    "Iterativne metode: https://en.wikipedia.org/wiki/Iterative_method\n",
    "\n",
    "Jacobijeva metoda: https://en.wikipedia.org/wiki/Jacobi_method\n",
    "\n",
    "Gauss–Seidelova metoda: https://en.wikipedia.org/wiki/Gauss%E2%80%93Seidel_method\n",
    "\n",
    "SOR metoda: https://en.wikipedia.org/wiki/Successive_over-relaxation\n",
    "\n",
    "Stieltjes matrica: https://en.wikipedia.org/wiki/Stieltjes_matrix i https://web.math.pmf.unizg.hr/~nela/zr1.html\n",
    "\n",
    "Dodavanje oznaka na barove u bar chartu: https://stackoverflow.com/questions/28931224/adding-value-labels-on-a-matplotlib-bar-chart/48372659\n",
    "\n",
    "Bojanje barova u bar chartu: https://stackoverflow.com/questions/18973404/setting-different-bar-color-in-matplotlib-python\n",
    "\n",
    "Matplotlib dokumentacija: https://matplotlib.org/\n",
    "\n",
    "Numpy dokumentacija: https://docs.scipy.org/doc/numpy/index.html\n",
    "\n",
    "Kreiranje videa: https://gifmaker.me/\n",
    "\n",
    "Matrični zapis iterativnih metodâ: https://web.math.pmf.unizg.hr/~nela/zr1vjezbe/zr1_iterativne_metode.pdf\n",
    "\n",
    "Teoretska pozadina numeričkog rješavanja sustava linearnih jednadžbi: https://web.math.pmf.unizg.hr/~drmac/na001.pdf\n",
    "\n",
    "<b> Drugi dio </b>\n",
    "\n",
    "Teoretska pozadina numeričkog rješavanja inicijalnog problema za ODJ: https://web.math.pmf.unizg.hr/~drmac/b0.pdf i https://web.math.pmf.unizg.hr/~nela/zr2.html\n",
    "\n",
    "Eksplicitne i implicitne metode: https://en.wikipedia.org/wiki/Explicit_and_implicit_methods\n",
    "\n",
    "Eulerova metoda: https://en.wikipedia.org/wiki/Euler_method\n",
    "\n",
    "Trapezna metoda: https://en.wikipedia.org/wiki/Trapezoidal_rule\n",
    "\n",
    "Runge–Kuttina metoda: https://en.wikipedia.org/wiki/Runge%E2%80%93Kutta_methods\n",
    "\n",
    "Adams–Bashforthova metoda: https://en.wikipedia.org/wiki/Linear_multistep_method#Adams%E2%80%93Bashforth_methods\n",
    "\n",
    "Prikazivanje osi u plotu: https://stackoverflow.com/questions/25689238/show-origin-axis-x-y-in-matplotlib-plot\n",
    "\n",
    "scipy.optimize.fsolve: https://docs.scipy.org/doc/scipy-0.14.0/reference/generated/scipy.optimize.fsolve.html"
   ]
  },
  {
   "cell_type": "markdown",
   "metadata": {},
   "source": [
    "Osnovni elementi koje morate imati (bez kojih se zadaća ne smatra predanom, i nemate uvjet za prolaz) su barem 5 od sljedećih 6:\n",
    "\n",
    "- barem 3 funkcije ili klase koje ste sami napisali\n",
    "\n",
    "+\n",
    "\n",
    "- barem 99 linija koda (ne računaju se prazne linije, linije koje sadrže isključivo komentare, te duplicirane linije s trivijalnim izmjenama)\n",
    "\n",
    "+\n",
    "\n",
    "- barem 5 slika (grafova ili drugačijih vizualizacija) kreiranih u bilježnici (ubacivanje gotovih slika/videa je dopušteno, ali se ne računa za ovaj kriterij)\n",
    "\n",
    "+\n",
    "\n",
    "- barem 3 objekta, metode ili funkcije iz paketa Numpy, Scipy, Pandas ili Matplotlib, koje su obrađene na \"predavanjima\", i barem 3 koje nisu\n",
    "\n",
    "+\n",
    "\n",
    "<b>SA PREDAVANJA: numpy -> genfromtxt, array, diag,...</b>\n",
    "\n",
    "<b>NISU SA PREDAVANJA: ax.patches, np.argmin, np.tril, np.triu, get_height, get_width</b>\n",
    "\n",
    "- barem 3 objekta, metode ili funkcije iz nekog Anacondinog paketa koji nije obrađen na \"predavanjima\" (ne mora biti dio standardne instalacije, ali u tom slučaju napišite koje ste dodatne pakete koristili i kako se instaliraju)\n",
    "\n",
    "+\n",
    "\n",
    "<b> imali smo from IPython.display import YouTubeVideo, ali ne i Video</b>\n",
    "\n",
    "<b> from PIL import Image </b>\n",
    "\n",
    "<b> import scipy as sp</b>\n",
    "\n",
    "- barem 3 objekta, metode ili funkcije iz standardne Pythonove biblioteke koje nisu obrađene na predavanjima"
   ]
  },
  {
   "cell_type": "code",
   "execution_count": null,
   "metadata": {},
   "outputs": [],
   "source": []
  },
  {
   "cell_type": "code",
   "execution_count": null,
   "metadata": {},
   "outputs": [],
   "source": []
  }
 ],
 "metadata": {
  "kernelspec": {
   "display_name": "Python 3",
   "language": "python",
   "name": "python3"
  },
  "language_info": {
   "codemirror_mode": {
    "name": "ipython",
    "version": 3
   },
   "file_extension": ".py",
   "mimetype": "text/x-python",
   "name": "python",
   "nbconvert_exporter": "python",
   "pygments_lexer": "ipython3",
   "version": "3.7.7"
  }
 },
 "nbformat": 4,
 "nbformat_minor": 2
}
